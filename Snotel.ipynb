{
 "cells": [
  {
   "cell_type": "markdown",
   "metadata": {},
   "source": [
    "![SNOTEL](Images/snotel.jpg)\n",
    "\n",
    "# Retrieve and Analyze Snotel data for a watershed of interest\n",
    "Authors: Irene Garousi-Nejad (igarousi@cuahsi.org), Ryan Johnson (ryan.c.johnson@utah.edu)\n",
    "Last updated: January 9th, 2025\n",
    "\n",
    "This notebook support the CIROH HydroLearn module Introduction to Seasonal Snow Observations, Modeling, and Analysis, demonstrating how to access NRCS SNOTEL data, in particular,  snow-water-equivalent. \n",
    "\n",
    "Supplementary Code:\n",
    "\n",
    "To simplify this notebook, we developed and import several helper functions from the supporting_scripts folder to streamline data retrieval, data processing, and visualization. \n",
    "We encourage advanced users to explore all of the helper scripts in teh supporting_scripts folder.\n",
    "For example, while this exercise focuses on a river basin in California, there is a script for retrieving SNOTEL observational data for sites located in other states utilizing the traditional site identification number."
   ]
  },
  {
   "cell_type": "markdown",
   "metadata": {},
   "source": [
    "# 1. Create Map for Watershed for USGS Station ID\n",
    "The following code uses the pynhd and folium packages to create an interactive map of a watershed from a USGS gauge ID.\n",
    "\n",
    "In our exercise, we are tasked with identifying all SNOTEL sites upstream of Hetch Hetchy Reservoir on the Tuolumne River. The user can search for \"USGS streamflow Tuolumne River\" and serveral locations will pop up. Site [11274790](https://waterdata.usgs.gov/monitoring-location/11274790/#dataTypeId=continuous-00065-0&period=P7D&showMedian=false) is the site of interest for this assessment "
   ]
  },
  {
   "cell_type": "code",
   "execution_count": null,
   "metadata": {},
   "outputs": [],
   "source": [
    "from pynhd import NLDI, WaterData, NHDPlusHR, GeoConnex\n",
    "import geopandas as gpd\n",
    "import pandas as pd\n",
    "from supporting_scripts import getData, SNOTEL_Analyzer, dataprocessing, mapping\n",
    "from shapely.geometry import box, Polygon\n",
    "import os\n",
    "import datetime\n",
    "import matplotlib.pyplot as plt\n",
    "import numpy as np\n",
    "import warnings\n",
    "warnings.filterwarnings(\"ignore\")\n",
    "\n",
    " "
   ]
  },
  {
   "cell_type": "markdown",
   "metadata": {},
   "source": [
    "Define the watershed outlet using NWIS site id. Create a map object that we'll add layers to."
   ]
  },
  {
   "cell_type": "code",
   "execution_count": null,
   "metadata": {},
   "outputs": [],
   "source": [
    "nldi = NLDI()\n",
    "usgs_gage_id = \"11274790\" # NWIS id for Tuolumne river at the mouth of Hetch Hetchy Reservoir"
   ]
  },
  {
   "cell_type": "markdown",
   "metadata": {},
   "source": [
    "Collect watershed and reach vectors using the pynhd module."
   ]
  },
  {
   "cell_type": "code",
   "execution_count": null,
   "metadata": {},
   "outputs": [],
   "source": [
    "nldi = NLDI()\n",
    "\n",
    "#Getting basin geometry\n",
    "print('Collecting basins...', end='')\n",
    "basin = nldi.get_basins(usgs_gage_id)\n",
    "if not os.path.exists('files'):\n",
    "    os.makedirs('files')\n",
    "basin.to_file(\"files/TuolumneRiverBasin.shp\")\n",
    "print('done')\n",
    "\n",
    "site_feature = nldi.getfeature_byid(\"nwissite\", f\"USGS-{usgs_gage_id}\")\n",
    "upstream_network = nldi.navigate_byid(\n",
    "    \"nwissite\", f\"USGS-{usgs_gage_id}\", \"upstreamMain\", \"flowlines\", distance=9999\n",
    ")"
   ]
  },
  {
   "cell_type": "markdown",
   "metadata": {},
   "source": [
    "Create and interactive map to display the watershed."
   ]
  },
  {
   "cell_type": "code",
   "execution_count": null,
   "metadata": {},
   "outputs": [],
   "source": [
    "# create map\n",
    "mapping.basin_mapping(basin, site_feature)"
   ]
  },
  {
   "cell_type": "markdown",
   "metadata": {},
   "source": [
    "![Basin](Images/basin.png)"
   ]
  },
  {
   "cell_type": "markdown",
   "metadata": {},
   "source": [
    "# 1. Identify SNOTEL sites within a spatial domain\n",
    "\n",
    "Here, we will read a geojson file from the web containing the geospatial information for all SNOTEL sites. \n",
    "Once loaded, the script will use the basin geometry (in the form of a polygon in the GeoDataFrame) to clip all SNOTEL sites located within the boundaries of the basin."
   ]
  },
  {
   "cell_type": "code",
   "execution_count": null,
   "metadata": {},
   "outputs": [],
   "source": [
    "# Create geodataframe of all stations\n",
    "all_stations_gdf = gpd.read_file('https://raw.githubusercontent.com/egagli/snotel_ccss_stations/main/all_stations.geojson').set_index('code')\n",
    "all_stations_gdf = all_stations_gdf[all_stations_gdf['csvData']==True]\n",
    "\n",
    "# Use the polygon geometry to select snotel sites that are within the domain\n",
    "gdf_in_bbox = all_stations_gdf[all_stations_gdf.geometry.within(basin.geometry[0])]\n",
    "\n",
    "#reset index to have siteid as a column\n",
    "gdf_in_bbox.reset_index(drop=False, inplace=True)\n",
    "\n",
    "#make begin and end date a str\n",
    "gdf_in_bbox['beginDate'] = [datetime.datetime.strftime(gdf_in_bbox['beginDate'][i], \"%Y-%m-%d\") for i in np.arange(0,len(gdf_in_bbox),1)]\n",
    "gdf_in_bbox['endDate'] = [datetime.datetime.strftime(gdf_in_bbox['endDate'][i], \"%Y-%m-%d\") for i in np.arange(0,len(gdf_in_bbox),1)]\n",
    "gdf_in_bbox"
   ]
  },
  {
   "cell_type": "markdown",
   "metadata": {},
   "source": [
    "Add the SNOTEL monitoring station locations to the map"
   ]
  },
  {
   "cell_type": "code",
   "execution_count": null,
   "metadata": {},
   "outputs": [],
   "source": [
    "mapping.snotel_mapping(gdf_in_bbox, basin, site_feature)"
   ]
  },
  {
   "cell_type": "markdown",
   "metadata": {},
   "source": [
    "![basinsnotel](Images/basinsnotel.png)"
   ]
  },
  {
   "cell_type": "markdown",
   "metadata": {},
   "source": [
    "# 2. Retrieve data for the selected sites\n",
    "\n",
    "The following uses the getData.py script to download SNOTEL data for the sites within the domain. Inputs to this script include the SNOTEL site name, site ID, and state abbreviation, which are retrieved from the geodataframe above. Additional inputs include the start and end dates, as well as the path to save the outputs."
   ]
  },
  {
   "cell_type": "code",
   "execution_count": null,
   "metadata": {},
   "outputs": [],
   "source": [
    "# Use the getData module to retrieve data \n",
    "OutputFolder = 'files/SNOTEL'\n",
    "if not os.path.exists(OutputFolder):\n",
    "    os.makedirs(OutputFolder)\n",
    "\n",
    "for i in gdf_in_bbox.index:\n",
    "    print(i)\n",
    "    getData.getCaliSNOTELData(gdf_in_bbox.name[i], gdf_in_bbox.code[i], gdf_in_bbox.beginDate[i], gdf_in_bbox.endDate[i], OutputFolder)"
   ]
  },
  {
   "cell_type": "markdown",
   "metadata": {},
   "source": [
    "# 3.  Process the data to enable plotting and analysis"
   ]
  },
  {
   "cell_type": "code",
   "execution_count": null,
   "metadata": {},
   "outputs": [],
   "source": [
    "# Load the data for one site\n",
    "sites = list(gdf_in_bbox.code)\n",
    "stateab = 'Ca'\n",
    "sitedict = dict()\n",
    "\n",
    "for site in sites:\n",
    "    sitedict[site] = dataprocessing.processSNOTEL(site, stateab)\n",
    "\n",
    "sitedict['TUM']"
   ]
  },
  {
   "cell_type": "markdown",
   "metadata": {},
   "source": [
    "# 4. Make a snow report for WY2019"
   ]
  },
  {
   "cell_type": "code",
   "execution_count": null,
   "metadata": {},
   "outputs": [],
   "source": [
    "WY = 2019\n",
    "watershed = \"Tuolumne\"\n",
    "AOI = 'Above Hetch Hetchy Reservoir'\n",
    "DOI = '04-01' #must be in MM-DD form\n",
    "SNOTEL_Analyzer.SNOTELPlots(sitedict, gdf_in_bbox, WY, watershed, AOI,DOI)"
   ]
  },
  {
   "cell_type": "markdown",
   "metadata": {},
   "source": [
    "# 5. Generate a Basin Snow report\n",
    "\n",
    "In this section the user will develop a statistical snow analysis based on the mean values of each SNOTEL observation station within the catchment."
   ]
  },
  {
   "cell_type": "code",
   "execution_count": null,
   "metadata": {},
   "outputs": [],
   "source": [
    "WY = 2019\n",
    "watershed = \"Tuolumne\"\n",
    "AOI = 'Above Hetch Hetchy Reservoir'\n",
    "DOI = '04-01' #must be in MM-DD form\n",
    "\n",
    "SNOTEL_Analyzer.catchmentSNOTELAnalysis(sitedict, WY, watershed, AOI, DOI)"
   ]
  },
  {
   "cell_type": "code",
   "execution_count": null,
   "metadata": {},
   "outputs": [],
   "source": [
    "import os\n",
    "basinname = 'Tuolumne'\n",
    "output_res = 1000\n",
    "# Path to the file you want to remove\n",
    "folder = f\"files/ASO/{basinname}/{output_res}M_SWE_parquet\"\n",
    "date = '20190703'\n",
    "file_path = f\"{folder}/ASO_1000M_SWE_{date}.parquet\"\n",
    "\n",
    "# Check if the file exists\n",
    "if os.path.exists(file_path):\n",
    "    # Remove the file\n",
    "    os.remove(file_path)\n",
    "    print(\"file removed\")"
   ]
  },
  {
   "cell_type": "code",
   "execution_count": null,
   "metadata": {},
   "outputs": [],
   "source": []
  }
 ],
 "metadata": {
  "kernelspec": {
   "display_name": "HydroLearnEnv",
   "language": "python",
   "name": "python3"
  },
  "language_info": {
   "codemirror_mode": {
    "name": "ipython",
    "version": 3
   },
   "file_extension": ".py",
   "mimetype": "text/x-python",
   "name": "python",
   "nbconvert_exporter": "python",
   "pygments_lexer": "ipython3",
   "version": "3.10.0"
  }
 },
 "nbformat": 4,
 "nbformat_minor": 4
}
